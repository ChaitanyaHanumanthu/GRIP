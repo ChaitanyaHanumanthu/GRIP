{
 "cells": [
  {
   "cell_type": "markdown",
   "id": "00dc736b",
   "metadata": {},
   "source": [
    "# The Sparks Foundation GRIP #JUNE22   --  Data Science and Business Analytics Internship"
   ]
  },
  {
   "cell_type": "markdown",
   "id": "963fa659",
   "metadata": {},
   "source": [
    "# Task - 1 Prediction using supervised Machine Learning"
   ]
  },
  {
   "cell_type": "markdown",
   "id": "b323dcda",
   "metadata": {},
   "source": [
    "### By chaitanya hanumanthu, "
   ]
  },
  {
   "cell_type": "markdown",
   "id": "2a93c8b5",
   "metadata": {},
   "source": [
    "## Problem statement\n",
    "\n",
    "1. To predict the percentage of a student based on the number of study hours\n",
    "2. Predct the score of a student studies for 9.25 hrs/day"
   ]
  },
  {
   "cell_type": "code",
   "execution_count": 1,
   "id": "b38a336e",
   "metadata": {},
   "outputs": [],
   "source": [
    "# Importing all required modules\n",
    "import numpy as np\n",
    "import pandas as pd\n",
    "import seaborn as sns\n",
    "import matplotlib.pyplot as plt"
   ]
  },
  {
   "cell_type": "code",
   "execution_count": null,
   "id": "e75b7ace",
   "metadata": {},
   "outputs": [],
   "source": [
    "## In this step we are reading the dataset using pandas\n",
    "data=pd.read_csv('http://bit.ly/w-data')\n",
    "data.head()"
   ]
  },
  {
   "cell_type": "code",
   "execution_count": null,
   "id": "d9419e79",
   "metadata": {},
   "outputs": [],
   "source": [
    "# To know the shape of the data, ( No of rows, No of cols)\n",
    "data.shape"
   ]
  },
  {
   "cell_type": "code",
   "execution_count": null,
   "id": "3fe8e5db",
   "metadata": {},
   "outputs": [],
   "source": [
    "# Which gives the information and describes the data \n",
    "data.info()\n",
    "data.describe()"
   ]
  },
  {
   "cell_type": "code",
   "execution_count": null,
   "id": "608de20a",
   "metadata": {},
   "outputs": [],
   "source": [
    "# This step is to plot the data \n",
    "sns.scatterplot(x=data['Hours'],y=data['Scores']);"
   ]
  },
  {
   "cell_type": "code",
   "execution_count": null,
   "id": "46a774af",
   "metadata": {},
   "outputs": [],
   "source": [
    "# Lets do regression, so the data will be in clear\n",
    "sns.regplot(x=data['Hours'],y=data['Scores'],color='green');"
   ]
  },
  {
   "cell_type": "markdown",
   "id": "3e147534",
   "metadata": {},
   "source": [
    "### After the regression lets prepare the data"
   ]
  },
  {
   "cell_type": "code",
   "execution_count": null,
   "id": "554d07f6",
   "metadata": {},
   "outputs": [],
   "source": [
    "#Dividing the data into inputs and outputs\n",
    "x=data[['Hours']]\n",
    "y=data['Scores']"
   ]
  },
  {
   "cell_type": "code",
   "execution_count": null,
   "id": "e9f535fc",
   "metadata": {},
   "outputs": [],
   "source": [
    "#Splitting the data for both training and testing\n",
    "from sklearn.model_selection import train_test_split\n",
    "train_x, val_x, train_y, val_y = train_test_split(x,y, random_state=0)"
   ]
  },
  {
   "cell_type": "code",
   "execution_count": null,
   "id": "e7737bf2",
   "metadata": {},
   "outputs": [],
   "source": [
    "from sklearn.linear_model import LinearRegression\n",
    "regressor = LinearRegression()"
   ]
  },
  {
   "cell_type": "markdown",
   "id": "01fca8c3",
   "metadata": {},
   "source": [
    "### Training the model"
   ]
  },
  {
   "cell_type": "code",
   "execution_count": null,
   "id": "0cf357bc",
   "metadata": {},
   "outputs": [],
   "source": [
    "regressor.fit(train_x,train_y)"
   ]
  },
  {
   "cell_type": "markdown",
   "id": "5b54b44d",
   "metadata": {},
   "source": [
    "### Predicting the data"
   ]
  },
  {
   "cell_type": "code",
   "execution_count": null,
   "id": "1e98ece6",
   "metadata": {},
   "outputs": [],
   "source": [
    "pred_y = regressor.predict(val_x)"
   ]
  },
  {
   "cell_type": "code",
   "execution_count": null,
   "id": "93d572a1",
   "metadata": {},
   "outputs": [],
   "source": [
    "pd.DataFrame({'Actual': val_y, 'Predicted':pred_y})"
   ]
  },
  {
   "cell_type": "code",
   "execution_count": null,
   "id": "3fbb65a1",
   "metadata": {},
   "outputs": [],
   "source": [
    "## Actual vs predicted distribution plot\n",
    "sns.kdeplot(pred_y, label=\"Predicted\", shade=True);\n",
    "sns.kdeplot(data=val_y, label=\"Actual\", shade=True);"
   ]
  },
  {
   "cell_type": "code",
   "execution_count": null,
   "id": "153824d9",
   "metadata": {},
   "outputs": [],
   "source": [
    "# Train and test accuracy\n",
    "print(\"Accuracy:\", regressor.score(train_x, train_y),\"\\n test accuracy:\", regressor.score(val_x,val_y))"
   ]
  },
  {
   "cell_type": "code",
   "execution_count": null,
   "id": "e4d0f29c",
   "metadata": {},
   "outputs": [],
   "source": [
    "## Mean Absolute error\n",
    "from sklearn import metrics\n",
    "print('Mean absolute Error:', metrics.mean_absolute_error(val_y, pred_y))\n",
    "\n",
    "print(\"Max Error:\", metrics.max_error(val_y, pred_y))"
   ]
  },
  {
   "cell_type": "code",
   "execution_count": null,
   "id": "eaca0a7a",
   "metadata": {
    "scrolled": true
   },
   "outputs": [],
   "source": [
    "# Here is the predicted score, if a student studies for a 9.25 hrs / day\n",
    "h=[[9.25]]\n",
    "s=regressor.predict(h)\n",
    "print('A student who studies ', h[0][0], 'hours is estimated to score ', s[0])"
   ]
  },
  {
   "cell_type": "markdown",
   "id": "725fa1ed",
   "metadata": {},
   "source": [
    "#### Here we got the final output as \n",
    "##### If a student who studies 9.25 hrs/day is estimated to score 93.89272889341655"
   ]
  },
  {
   "cell_type": "code",
   "execution_count": null,
   "id": "28730c77",
   "metadata": {},
   "outputs": [],
   "source": []
  }
 ],
 "metadata": {
  "kernelspec": {
   "display_name": "Python 3 (ipykernel)",
   "language": "python",
   "name": "python3"
  },
  "language_info": {
   "codemirror_mode": {
    "name": "ipython",
    "version": 3
   },
   "file_extension": ".py",
   "mimetype": "text/x-python",
   "name": "python",
   "nbconvert_exporter": "python",
   "pygments_lexer": "ipython3",
   "version": "3.9.12"
  }
 },
 "nbformat": 4,
 "nbformat_minor": 5
}
